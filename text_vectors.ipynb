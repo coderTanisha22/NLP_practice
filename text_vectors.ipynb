{
 "cells": [
  {
   "cell_type": "code",
   "execution_count": 22,
   "id": "537ba8e7-d4d7-4f64-8c13-7a4819e51a2c",
   "metadata": {},
   "outputs": [
    {
     "name": "stderr",
     "output_type": "stream",
     "text": [
      "[nltk_data] Downloading package maxent_ne_chunker to\n",
      "[nltk_data]     C:\\Users\\tanis\\AppData\\Roaming\\nltk_data...\n",
      "[nltk_data]   Package maxent_ne_chunker is already up-to-date!\n",
      "[nltk_data] Downloading package words to\n",
      "[nltk_data]     C:\\Users\\tanis\\AppData\\Roaming\\nltk_data...\n",
      "[nltk_data]   Package words is already up-to-date!\n"
     ]
    },
    {
     "data": {
      "text/plain": [
       "True"
      ]
     },
     "execution_count": 22,
     "metadata": {},
     "output_type": "execute_result"
    }
   ],
   "source": [
    "import nltk\n",
    "nltk.download('maxent_ne_chunker')  #enables named entity recognition (NER)\n",
    "nltk.download('words')  #list of some english words"
   ]
  },
  {
   "cell_type": "code",
   "execution_count": 2,
   "id": "43aa1454-67f7-4727-9b96-869afc6f6598",
   "metadata": {},
   "outputs": [],
   "source": [
    "sentence = \"Mahatma Gandhi was born on 2nd October 1869 in Porbandar.\""
   ]
  },
  {
   "cell_type": "code",
   "execution_count": 3,
   "id": "a0270aa4-6acc-40d4-b0dd-b8e89be654fe",
   "metadata": {},
   "outputs": [],
   "source": [
    "words=nltk.word_tokenize(sentence)"
   ]
  },
  {
   "cell_type": "code",
   "execution_count": 4,
   "id": "c218f2f1-0ef9-4508-9603-2c501ed945aa",
   "metadata": {},
   "outputs": [],
   "source": [
    "tagged=nltk.pos_tag(words)"
   ]
  },
  {
   "cell_type": "code",
   "execution_count": 26,
   "id": "e545ee68-4183-43c6-8089-16af8952510b",
   "metadata": {},
   "outputs": [],
   "source": [
    "nltk.ne_chunk(tagged).draw()  #will display a tree in different window"
   ]
  },
  {
   "cell_type": "code",
   "execution_count": 27,
   "id": "b96cc140-4dcd-44dd-ba0e-83b01c20443f",
   "metadata": {},
   "outputs": [],
   "source": [
    "tree=nltk.ne_chunk(tagged)"
   ]
  },
  {
   "cell_type": "code",
   "execution_count": 7,
   "id": "94df0cc3-3cd9-4d09-933d-20d9166a3dd4",
   "metadata": {},
   "outputs": [
    {
     "name": "stdout",
     "output_type": "stream",
     "text": [
      "(S\n",
      "  (PERSON Mahatma/NNP)\n",
      "  (PERSON Gandhi/NNP)\n",
      "  was/VBD\n",
      "  born/VBN\n",
      "  on/IN\n",
      "  2nd/CD\n",
      "  October/NNP\n",
      "  1869/CD\n",
      "  in/IN\n",
      "  (GPE Porbandar/NNP)\n",
      "  ./.)\n"
     ]
    }
   ],
   "source": [
    "print(tree) "
   ]
  },
  {
   "cell_type": "code",
   "execution_count": null,
   "id": "9405b2e1-32e0-4049-9aae-cf6c39c46499",
   "metadata": {},
   "outputs": [],
   "source": [
    "###text to vectors"
   ]
  },
  {
   "cell_type": "markdown",
   "id": "b64e7f13-3b0b-4995-8efb-f9a0e687f389",
   "metadata": {},
   "source": [
    "#n-grams"
   ]
  },
  {
   "cell_type": "code",
   "execution_count": null,
   "id": "2f423c62-2d86-4207-bcdd-3d1f5450b41c",
   "metadata": {},
   "outputs": [],
   "source": []
  }
 ],
 "metadata": {
  "kernelspec": {
   "display_name": "Python [conda env:base] *",
   "language": "python",
   "name": "conda-base-py"
  },
  "language_info": {
   "codemirror_mode": {
    "name": "ipython",
    "version": 3
   },
   "file_extension": ".py",
   "mimetype": "text/x-python",
   "name": "python",
   "nbconvert_exporter": "python",
   "pygments_lexer": "ipython3",
   "version": "3.12.7"
  }
 },
 "nbformat": 4,
 "nbformat_minor": 5
}
